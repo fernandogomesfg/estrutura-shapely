{
  "nbformat": 4,
  "nbformat_minor": 0,
  "metadata": {
    "colab": {
      "provenance": [],
      "authorship_tag": "ABX9TyMpm92+i9FRy3+Vep/kZanc",
      "include_colab_link": true
    },
    "kernelspec": {
      "name": "python3",
      "display_name": "Python 3"
    },
    "language_info": {
      "name": "python"
    }
  },
  "cells": [
    {
      "cell_type": "markdown",
      "metadata": {
        "id": "view-in-github",
        "colab_type": "text"
      },
      "source": [
        "<a href=\"https://colab.research.google.com/github/fernandogomesfg/estrutura-shapely/blob/main/estrutura_shapely.ipynb\" target=\"_parent\"><img src=\"https://colab.research.google.com/assets/colab-badge.svg\" alt=\"Open In Colab\"/></a>"
      ]
    },
    {
      "cell_type": "code",
      "execution_count": 3,
      "metadata": {
        "colab": {
          "base_uri": "https://localhost:8080/"
        },
        "id": "MGCDsARF_O3L",
        "outputId": "3be25a05-2232-46a0-94c9-703e0ebc79ec"
      },
      "outputs": [
        {
          "output_type": "stream",
          "name": "stdout",
          "text": [
            "Requirement already satisfied: shapely in /usr/local/lib/python3.10/dist-packages (2.0.1)\n",
            "Requirement already satisfied: numpy>=1.14 in /usr/local/lib/python3.10/dist-packages (from shapely) (1.23.5)\n"
          ]
        }
      ],
      "source": [
        "!pip install shapely"
      ]
    },
    {
      "cell_type": "code",
      "source": [
        "from shapely.geometry import Point, LineString, Polygon"
      ],
      "metadata": {
        "id": "IZXc4OMB_SRU"
      },
      "execution_count": 4,
      "outputs": []
    },
    {
      "cell_type": "markdown",
      "source": [
        "# Shapely com Pontos"
      ],
      "metadata": {
        "id": "pBJaIkIDDnzc"
      }
    },
    {
      "cell_type": "code",
      "source": [
        "# Criando coordenadas\n",
        "pontoA = Point(4.4, 1.04 )\n",
        "pontoB = Point(3.4, -18.4)\n",
        "pontoC = Point(15.4, -5.4)"
      ],
      "metadata": {
        "id": "SWgKInbJBOBD"
      },
      "execution_count": 32,
      "outputs": []
    },
    {
      "cell_type": "code",
      "source": [
        "# Distancia entre dois pontos\n",
        "distancia = pontoA.distance(pontoC)\n",
        "round(distancia, 2)"
      ],
      "metadata": {
        "colab": {
          "base_uri": "https://localhost:8080/"
        },
        "id": "tChmjZ7LCWn3",
        "outputId": "476151bb-3719-4b44-abbe-7dd6f4e3d006"
      },
      "execution_count": 25,
      "outputs": [
        {
          "output_type": "execute_result",
          "data": {
            "text/plain": [
              "12.75"
            ]
          },
          "metadata": {},
          "execution_count": 25
        }
      ]
    },
    {
      "cell_type": "code",
      "source": [
        "# Sabendo da coordenada\n",
        "pontoA.coords.xy"
      ],
      "metadata": {
        "colab": {
          "base_uri": "https://localhost:8080/"
        },
        "id": "fMh3ZFw_DYU2",
        "outputId": "9fdcf523-a30c-4cb8-a3c4-de2324994cb0"
      },
      "execution_count": 29,
      "outputs": [
        {
          "output_type": "execute_result",
          "data": {
            "text/plain": [
              "(array('d', [4.4]), array('d', [1.04]))"
            ]
          },
          "metadata": {},
          "execution_count": 29
        }
      ]
    },
    {
      "cell_type": "code",
      "source": [
        "# Buffer\n",
        "pontoC.buffer(100, 10)"
      ],
      "metadata": {
        "colab": {
          "base_uri": "https://localhost:8080/",
          "height": 237
        },
        "id": "8j_ACdAwDdtK",
        "outputId": "c5992237-34c5-4fb2-b345-6a0857e9d785"
      },
      "execution_count": 35,
      "outputs": [
        {
          "output_type": "execute_result",
          "data": {
            "text/plain": [
              "<POLYGON ((115.4 -5.4, 114.169 -21.043, 110.506 -36.302, 104.501 -50.799, 96...>"
            ],
            "image/svg+xml": "<svg xmlns=\"http://www.w3.org/2000/svg\" xmlns:xlink=\"http://www.w3.org/1999/xlink\" width=\"216.0\" height=\"216.0\" viewBox=\"-92.6 -113.4 216.0 216.0\" preserveAspectRatio=\"xMinYMin meet\"><g transform=\"matrix(1,0,0,-1,0,-10.800000000000011)\"><path fill-rule=\"evenodd\" fill=\"#66cc99\" stroke=\"#555555\" stroke-width=\"2.0\" opacity=\"0.6\" d=\"M 115.4,-5.4 L 114.16883405951378,-21.043446504023088 L 110.50565162951536,-36.30169943749474 L 104.5006524188368,-50.79904997395467 L 96.30169943749475,-64.17852522924731 L 86.11067811865476,-76.11067811865475 L 74.17852522924731,-86.30169943749475 L 60.79904997395468,-94.50065241883678 L 46.30169943749475,-100.50565162951536 L 31.043446504023095,-104.16883405951378 L 15.400000000000006,-105.4 L -0.24344650402308154,-104.16883405951378 L -15.501699437494734,-100.50565162951537 L -29.99904997395467,-94.5006524188368 L -43.3785252292473,-86.30169943749475 L -55.31067811865474,-76.11067811865476 L -65.50169943749472,-64.17852522924733 L -73.70065241883677,-50.79904997395469 L -79.70565162951534,-36.301699437494754 L -83.36883405951376,-21.0434465040231 L -84.6,-5.400000000000013 L -83.36883405951377,10.243446504023073 L -79.70565162951536,25.50169943749473 L -73.70065241883678,39.99904997395467 L -65.50169943749475,53.3785252292473 L -55.31067811865477,65.31067811865474 L -43.37852522924732,75.50169943749472 L -29.99904997395469,83.70065241883677 L -15.501699437494755,89.70565162951534 L -0.24344650402310286,93.36883405951376 L 15.399999999999983,94.6 L 31.043446504023066,93.36883405951377 L 46.301699437494726,89.70565162951536 L 60.79904997395466,83.70065241883678 L 74.1785252292473,75.50169943749475 L 86.11067811865475,65.31067811865476 L 96.30169943749473,53.37852522924734 L 104.50065241883678,39.9990499739547 L 110.50565162951536,25.501699437494764 L 114.16883405951377,10.243446504023112 L 115.4,-5.4 z\" /></g></svg>"
          },
          "metadata": {},
          "execution_count": 35
        }
      ]
    },
    {
      "cell_type": "code",
      "source": [
        "pontoB.xy"
      ],
      "metadata": {
        "colab": {
          "base_uri": "https://localhost:8080/"
        },
        "id": "PJdnwQT5EPAu",
        "outputId": "dcdb08fb-66a3-442c-d0d4-9ae75ad6bbc6"
      },
      "execution_count": 36,
      "outputs": [
        {
          "output_type": "execute_result",
          "data": {
            "text/plain": [
              "(array('d', [3.4]), array('d', [-18.4]))"
            ]
          },
          "metadata": {},
          "execution_count": 36
        }
      ]
    }
  ]
}